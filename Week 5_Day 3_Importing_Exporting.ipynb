{
 "cells": [
  {
   "cell_type": "markdown",
   "metadata": {},
   "source": [
    "### Import and export data "
   ]
  },
  {
   "cell_type": "code",
   "execution_count": 1,
   "metadata": {
    "collapsed": true
   },
   "outputs": [],
   "source": [
    "import os\n",
    "os.environ[\"GOOGLE_APPLICATION_CREDENTIALS\"]=\"/Users/Myrto.Setzi/code_alongs/Ironhack Data Analytics.json\""
   ]
  },
  {
   "cell_type": "code",
   "execution_count": 2,
   "metadata": {
    "collapsed": true
   },
   "outputs": [],
   "source": [
    "from google.cloud import bigquery"
   ]
  },
  {
   "cell_type": "code",
   "execution_count": 3,
   "metadata": {
    "collapsed": true
   },
   "outputs": [],
   "source": [
    "client = bigquery.Client()"
   ]
  },
  {
   "cell_type": "code",
   "execution_count": 1,
   "metadata": {},
   "outputs": [],
   "source": [
    "import pandas as pd"
   ]
  },
  {
   "cell_type": "markdown",
   "metadata": {},
   "source": [
    "Download data from here https://s3-eu-west-1.amazonaws.com/ih-materials/uploads/data-static/data/module-1/vehicles.zip"
   ]
  },
  {
   "cell_type": "markdown",
   "metadata": {},
   "source": [
    "#### Comma delimited"
   ]
  },
  {
   "cell_type": "code",
   "execution_count": 3,
   "metadata": {},
   "outputs": [],
   "source": [
    "# Import comma-separated variable file\n",
    "data = pd.read_csv('vehicles/vehicles.csv')\n",
    "\n",
    "# Import tab-delimited file\n",
    "data = pd.read_csv('vehicles/vehicles_tab.txt', sep='\\t')\n",
    "\n",
    "# Import pipe-delimited file\n",
    "data = pd.read_csv('vehicles/vehicles_pipe.txt', sep='|')"
   ]
  },
  {
   "cell_type": "code",
   "execution_count": null,
   "metadata": {
    "collapsed": true
   },
   "outputs": [],
   "source": [
    "# Export comma-separated variable file\n",
    "data = data.to_csv('vehicles/vehicles.csv', index=False)\n",
    "\n",
    "# Export tab-delimited file\n",
    "data = data.to_csv('vehicles/vehicles_tab.txt', sep='\\t', index=False)\n",
    "\n",
    "# Export pipe-delimited file\n",
    "data = data.to_csv('vehicles/vehicles_pipe.txt', sep='|', index=False)"
   ]
  },
  {
   "cell_type": "markdown",
   "metadata": {},
   "source": [
    "#### Excel"
   ]
  },
  {
   "cell_type": "code",
   "execution_count": null,
   "metadata": {
    "collapsed": true
   },
   "outputs": [],
   "source": [
    "data = pd.read_excel('vehicles/vehicles.xlsx')\n",
    "\n",
    "data.to_excel('vehicles/vehicles.xlsx', index=False)"
   ]
  },
  {
   "cell_type": "markdown",
   "metadata": {},
   "source": [
    "#### JSON"
   ]
  },
  {
   "cell_type": "code",
   "execution_count": null,
   "metadata": {
    "collapsed": true
   },
   "outputs": [],
   "source": [
    "data = pd.read_json('vehicles/vehicles.json')\n",
    "\n",
    "data.to_json('vehicles/vehicles.json')"
   ]
  },
  {
   "cell_type": "markdown",
   "metadata": {},
   "source": [
    "- 'split': Dictionary containing indexes, columns, and data.\n",
    "- 'index': Nested dictionaries containing {index:{column:value}}.\n",
    "- 'columns': Nested dictionaries containing {column:{index:value}}\n",
    "- 'values': Nested list where each sublist contains the values for a record.\n",
    "- 'table': Nested dictionaries containing schema and data (records)."
   ]
  },
  {
   "cell_type": "markdown",
   "metadata": {},
   "source": [
    "#### Writing to database"
   ]
  },
  {
   "cell_type": "code",
   "execution_count": 14,
   "metadata": {
    "collapsed": true
   },
   "outputs": [],
   "source": [
    "query='''\n",
    "SELECT\n",
    " end_station_name,\n",
    " COUNT(*) AS total_trips\n",
    "FROM \n",
    "    `bigquery-public-data.new_york.citibike_trips`\n",
    "GROUP BY\n",
    "     end_station_name\n",
    "ORDER BY \n",
    "    total_trips DESC\n",
    "'''"
   ]
  },
  {
   "cell_type": "code",
   "execution_count": 23,
   "metadata": {},
   "outputs": [
    {
     "data": {
      "text/html": [
       "<div>\n",
       "<style>\n",
       "    .dataframe thead tr:only-child th {\n",
       "        text-align: right;\n",
       "    }\n",
       "\n",
       "    .dataframe thead th {\n",
       "        text-align: left;\n",
       "    }\n",
       "\n",
       "    .dataframe tbody tr th {\n",
       "        vertical-align: top;\n",
       "    }\n",
       "</style>\n",
       "<table border=\"1\" class=\"dataframe\">\n",
       "  <thead>\n",
       "    <tr style=\"text-align: right;\">\n",
       "      <th></th>\n",
       "      <th>end_station_name</th>\n",
       "      <th>end_station_longitude</th>\n",
       "      <th>end_station_latitude</th>\n",
       "      <th>total_trips</th>\n",
       "    </tr>\n",
       "  </thead>\n",
       "  <tbody>\n",
       "    <tr>\n",
       "      <th>0</th>\n",
       "      <td>E 17 St &amp; Broadway</td>\n",
       "      <td>-73.990093</td>\n",
       "      <td>40.737050</td>\n",
       "      <td>307500</td>\n",
       "    </tr>\n",
       "    <tr>\n",
       "      <th>1</th>\n",
       "      <td>W 21 St &amp; 6 Ave</td>\n",
       "      <td>-73.994156</td>\n",
       "      <td>40.741740</td>\n",
       "      <td>277831</td>\n",
       "    </tr>\n",
       "    <tr>\n",
       "      <th>2</th>\n",
       "      <td>Lafayette St &amp; E 8 St</td>\n",
       "      <td>-73.990765</td>\n",
       "      <td>40.730287</td>\n",
       "      <td>275154</td>\n",
       "    </tr>\n",
       "    <tr>\n",
       "      <th>3</th>\n",
       "      <td>West St &amp; Chambers St</td>\n",
       "      <td>-74.013221</td>\n",
       "      <td>40.717548</td>\n",
       "      <td>266036</td>\n",
       "    </tr>\n",
       "    <tr>\n",
       "      <th>4</th>\n",
       "      <td>Broadway &amp; E 14 St</td>\n",
       "      <td>-73.990741</td>\n",
       "      <td>40.734546</td>\n",
       "      <td>243596</td>\n",
       "    </tr>\n",
       "  </tbody>\n",
       "</table>\n",
       "</div>"
      ],
      "text/plain": [
       "        end_station_name  end_station_longitude  end_station_latitude  \\\n",
       "0     E 17 St & Broadway             -73.990093             40.737050   \n",
       "1        W 21 St & 6 Ave             -73.994156             40.741740   \n",
       "2  Lafayette St & E 8 St             -73.990765             40.730287   \n",
       "3  West St & Chambers St             -74.013221             40.717548   \n",
       "4     Broadway & E 14 St             -73.990741             40.734546   \n",
       "\n",
       "   total_trips  \n",
       "0       307500  \n",
       "1       277831  \n",
       "2       275154  \n",
       "3       266036  \n",
       "4       243596  "
      ]
     },
     "execution_count": 23,
     "metadata": {},
     "output_type": "execute_result"
    }
   ],
   "source": [
    "query_job = client.query(query=query)\n",
    "df=query_job.to_dataframe()\n",
    "df.head()"
   ]
  },
  {
   "cell_type": "code",
   "execution_count": 22,
   "metadata": {
    "collapsed": true
   },
   "outputs": [],
   "source": [
    "full_table_id = 'car_dealership.new_table'\n",
    "project_id = 'ironhack-data-analytics'\n",
    "\n",
    "df.to_gbq(full_table_id, project_id=project_id)"
   ]
  }
 ],
 "metadata": {
  "kernelspec": {
   "display_name": "Python 3",
   "language": "python",
   "name": "python3"
  },
  "language_info": {
   "codemirror_mode": {
    "name": "ipython",
    "version": 3
   },
   "file_extension": ".py",
   "mimetype": "text/x-python",
   "name": "python",
   "nbconvert_exporter": "python",
   "pygments_lexer": "ipython3",
   "version": "3.7.4"
  }
 },
 "nbformat": 4,
 "nbformat_minor": 2
}
