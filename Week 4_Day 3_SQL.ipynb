{
 "cells": [
  {
   "cell_type": "markdown",
   "metadata": {},
   "source": [
    "## Connect to BigQuery"
   ]
  },
  {
   "cell_type": "code",
   "execution_count": 11,
   "metadata": {},
   "outputs": [],
   "source": [
    "import os\n",
    "os.environ[\"GOOGLE_APPLICATION_CREDENTIALS\"]=\"/Users/Myrto.Setzi/Documents/Ironhack/code_alongs/ironhack_service_account_big_query.json\""
   ]
  },
  {
   "cell_type": "code",
   "execution_count": 6,
   "metadata": {},
   "outputs": [
    {
     "data": {
      "text/plain": [
       "<module 'six' from 'C:\\\\Users\\\\myrto.setzi\\\\AppData\\\\Local\\\\Continuum\\\\anaconda3\\\\lib\\\\site-packages\\\\six.py'>"
      ]
     },
     "execution_count": 6,
     "metadata": {},
     "output_type": "execute_result"
    }
   ],
   "source": [
    "import six\n",
    "six.moves.reload_module(six)"
   ]
  },
  {
   "cell_type": "code",
   "execution_count": 7,
   "metadata": {},
   "outputs": [],
   "source": [
    "from google.cloud import bigquery"
   ]
  },
  {
   "cell_type": "code",
   "execution_count": 12,
   "metadata": {},
   "outputs": [],
   "source": [
    "client = bigquery.Client()"
   ]
  },
  {
   "cell_type": "markdown",
   "metadata": {},
   "source": [
    "## Examples"
   ]
  },
  {
   "cell_type": "markdown",
   "metadata": {},
   "source": [
    "Find the 10 most popular names and specify the gender"
   ]
  },
  {
   "cell_type": "code",
   "execution_count": 18,
   "metadata": {
    "collapsed": true
   },
   "outputs": [],
   "source": [
    "query_example='''\n",
    "SELECT\n",
    "  name,\n",
    "  gender,\n",
    "  SUM(number) AS total\n",
    "FROM\n",
    "  `bigquery-public-data.usa_names.usa_1910_2013`\n",
    "WHERE\n",
    "    year BETWEEN 2000 AND 2003 OR \n",
    "    (year>=2000 AND year<=2003) OR\n",
    "    year IN (2000,2001,2002,2003)\n",
    "GROUP BY\n",
    "  1,2\n",
    "HAVING \n",
    "    SUM(number)>4000000\n",
    "ORDER BY\n",
    "  total DESC\n",
    "LIMIT 10\n",
    "  '''"
   ]
  },
  {
   "cell_type": "code",
   "execution_count": 19,
   "metadata": {},
   "outputs": [
    {
     "data": {
      "text/html": [
       "<div>\n",
       "<style>\n",
       "    .dataframe thead tr:only-child th {\n",
       "        text-align: right;\n",
       "    }\n",
       "\n",
       "    .dataframe thead th {\n",
       "        text-align: left;\n",
       "    }\n",
       "\n",
       "    .dataframe tbody tr th {\n",
       "        vertical-align: top;\n",
       "    }\n",
       "</style>\n",
       "<table border=\"1\" class=\"dataframe\">\n",
       "  <thead>\n",
       "    <tr style=\"text-align: right;\">\n",
       "      <th></th>\n",
       "      <th>name</th>\n",
       "      <th>gender</th>\n",
       "      <th>total</th>\n",
       "    </tr>\n",
       "  </thead>\n",
       "  <tbody>\n",
       "    <tr>\n",
       "      <th>0</th>\n",
       "      <td>James</td>\n",
       "      <td>M</td>\n",
       "      <td>4924235</td>\n",
       "    </tr>\n",
       "    <tr>\n",
       "      <th>1</th>\n",
       "      <td>John</td>\n",
       "      <td>M</td>\n",
       "      <td>4818746</td>\n",
       "    </tr>\n",
       "    <tr>\n",
       "      <th>2</th>\n",
       "      <td>Robert</td>\n",
       "      <td>M</td>\n",
       "      <td>4703680</td>\n",
       "    </tr>\n",
       "    <tr>\n",
       "      <th>3</th>\n",
       "      <td>Michael</td>\n",
       "      <td>M</td>\n",
       "      <td>4280040</td>\n",
       "    </tr>\n",
       "    <tr>\n",
       "      <th>4</th>\n",
       "      <td>William</td>\n",
       "      <td>M</td>\n",
       "      <td>3811998</td>\n",
       "    </tr>\n",
       "    <tr>\n",
       "      <th>5</th>\n",
       "      <td>Mary</td>\n",
       "      <td>F</td>\n",
       "      <td>3728041</td>\n",
       "    </tr>\n",
       "    <tr>\n",
       "      <th>6</th>\n",
       "      <td>David</td>\n",
       "      <td>M</td>\n",
       "      <td>3541625</td>\n",
       "    </tr>\n",
       "    <tr>\n",
       "      <th>7</th>\n",
       "      <td>Richard</td>\n",
       "      <td>M</td>\n",
       "      <td>2526927</td>\n",
       "    </tr>\n",
       "    <tr>\n",
       "      <th>8</th>\n",
       "      <td>Joseph</td>\n",
       "      <td>M</td>\n",
       "      <td>2467298</td>\n",
       "    </tr>\n",
       "    <tr>\n",
       "      <th>9</th>\n",
       "      <td>Charles</td>\n",
       "      <td>M</td>\n",
       "      <td>2237170</td>\n",
       "    </tr>\n",
       "  </tbody>\n",
       "</table>\n",
       "</div>"
      ],
      "text/plain": [
       "      name gender    total\n",
       "0    James      M  4924235\n",
       "1     John      M  4818746\n",
       "2   Robert      M  4703680\n",
       "3  Michael      M  4280040\n",
       "4  William      M  3811998\n",
       "5     Mary      F  3728041\n",
       "6    David      M  3541625\n",
       "7  Richard      M  2526927\n",
       "8   Joseph      M  2467298\n",
       "9  Charles      M  2237170"
      ]
     },
     "execution_count": 19,
     "metadata": {},
     "output_type": "execute_result"
    }
   ],
   "source": [
    "query_job = client.query(query=query_example)\n",
    "df=query_job.to_dataframe()\n",
    "df"
   ]
  },
  {
   "cell_type": "markdown",
   "metadata": {
    "collapsed": true
   },
   "source": [
    "__Aggregate functions__\n",
    "\n",
    "- Min \n",
    "- Max\n",
    "- Count\n",
    "- Sum \n",
    "- Avg \n",
    "- Countif\n",
    "\n",
    "https://cloud.google.com/bigquery/docs/reference/standard-sql/aggregate_functions"
   ]
  },
  {
   "cell_type": "markdown",
   "metadata": {},
   "source": [
    "__Having__ : where statement for agregate functions "
   ]
  },
  {
   "cell_type": "code",
   "execution_count": null,
   "metadata": {
    "collapsed": true
   },
   "outputs": [],
   "source": [
    "query_example='''\n",
    "SELECT\n",
    "  name\n",
    "  ,gender\n",
    "  ,SUM(number) AS total\n",
    "FROM\n",
    "  `bigquery-public-data.usa_names.usa_1910_2013`\n",
    "GROUP BY\n",
    "  name\n",
    "  ,gender\n",
    "HAVING \n",
    "    SUM(number)>4000000\n",
    "ORDER BY\n",
    "  total DESC\n",
    "LIMIT 10\n",
    "  '''"
   ]
  },
  {
   "cell_type": "markdown",
   "metadata": {},
   "source": [
    "![db_foto](./db_schema.png)"
   ]
  },
  {
   "cell_type": "code",
   "execution_count": 20,
   "metadata": {
    "collapsed": true
   },
   "outputs": [],
   "source": [
    "# Find the average price by type using the titles table where pub date is after 1991\n"
   ]
  },
  {
   "cell_type": "code",
   "execution_count": 5,
   "metadata": {
    "collapsed": true
   },
   "outputs": [],
   "source": [
    "# Find how many years each employee has been working in the company "
   ]
  },
  {
   "cell_type": "code",
   "execution_count": null,
   "metadata": {
    "collapsed": true
   },
   "outputs": [],
   "source": [
    "# Find which employee started working there first"
   ]
  },
  {
   "cell_type": "code",
   "execution_count": null,
   "metadata": {
    "collapsed": true
   },
   "outputs": [],
   "source": [
    "# Count how many transactions within 1994 if payterms is net30"
   ]
  },
  {
   "cell_type": "code",
   "execution_count": null,
   "metadata": {
    "collapsed": true
   },
   "outputs": [],
   "source": [
    "# In which city live the most authors?"
   ]
  },
  {
   "cell_type": "markdown",
   "metadata": {},
   "source": [
    "## Joins "
   ]
  },
  {
   "cell_type": "markdown",
   "metadata": {},
   "source": [
    "[![sql_joins](http://i.imgur.com/1m55Wqo.jpg)](http://i.imgur.com/1m55Wqo.jpg)"
   ]
  },
  {
   "cell_type": "code",
   "execution_count": null,
   "metadata": {
    "collapsed": true
   },
   "outputs": [],
   "source": [
    "# we know that publishers and titles have a one-to-many relationship. \n",
    "# Let's join them and get a count of the number of titles each publisher has published.\n"
   ]
  },
  {
   "cell_type": "code",
   "execution_count": null,
   "metadata": {
    "collapsed": true
   },
   "outputs": [],
   "source": [
    "query='''\n",
    "SELECT \n",
    "    pubs.pub_name\n",
    "    , COUNT(titles.title_id) AS titles\n",
    "FROM \n",
    "     `ironhack-data-analytics-265219.publications.publishers` pubs\n",
    "INNER JOIN \n",
    "    `ironhack-data-analytics-265219.publications.titles`titles\n",
    "ON \n",
    "    pubs.pub_id = titles.pub_id\n",
    "GROUP BY \n",
    "    pubs.pub_name\n",
    "'''"
   ]
  },
  {
   "cell_type": "code",
   "execution_count": null,
   "metadata": {
    "collapsed": true
   },
   "outputs": [],
   "source": [
    "query_job = client.query(query=query)\n",
    "df=query_job.to_dataframe()\n",
    "df"
   ]
  },
  {
   "cell_type": "code",
   "execution_count": null,
   "metadata": {
    "collapsed": true
   },
   "outputs": [],
   "source": [
    "# Because we used an INNER JOIN for this query, it returns only results for publishers whose pub_id is in both tables. What if we wanted the results to return records for all the publishers, regardless of whether they had published \n",
    "# any titles?"
   ]
  },
  {
   "cell_type": "code",
   "execution_count": 15,
   "metadata": {},
   "outputs": [],
   "source": [
    "# What if we wanted to analyze how many units were sold for each title? We could declare our sales table first, our titles \n",
    "# table second, and use a RIGHT JOIN to ensure that our query returns a record for every title \n",
    "# (even the ones that did not have any sales).\n",
    "query='''\n",
    "SELECT \n",
    "    titles.title\n",
    "    , titles.type\n",
    "    , titles.price\n",
    "    , SUM(sales.qty) AS units_sold\n",
    "FROM \n",
    "    `ironhack-data-analytics-265219.publications.sales` sales\n",
    "RIGHT JOIN \n",
    "     `ironhack-data-analytics-265219.publications.titles` titles\n",
    "ON \n",
    "    sales.title_id = titles.title_id\n",
    "WHERE\n",
    "    titles.type=\"x\"\n",
    "GROUP BY \n",
    "    1,2,3\n",
    "   '''"
   ]
  },
  {
   "cell_type": "markdown",
   "metadata": {
    "collapsed": true
   },
   "source": [
    "## Subqueries"
   ]
  },
  {
   "cell_type": "code",
   "execution_count": null,
   "metadata": {
    "collapsed": true
   },
   "outputs": [],
   "source": [
    "# Suppose we wanted to see sales by title for the two stores that averaged more than one item per order. \n",
    "# We can obtain these results by adding the stor_id field to our subquery, joining the subquery results to the sales table, \n",
    "# creating another join between the sales table and the title table, and then adding a WHERE clause to the main query so \n",
    "# that it returns only results \n",
    "# where the average items per order were greater than 1."
   ]
  },
  {
   "cell_type": "code",
   "execution_count": 16,
   "metadata": {},
   "outputs": [],
   "source": [
    "query='''\n",
    "SELECT \n",
    "    store, \n",
    "    ord_num AS order_number, \n",
    "    ord_date AS order_date, \n",
    "    title AS title, \n",
    "    sales.qty AS qty, \n",
    "    price AS price, \n",
    "    type AS type\n",
    "FROM (\n",
    "    SELECT \n",
    "        stores.stor_id AS store_ID, \n",
    "        stores.stor_name AS store, \n",
    "        COUNT(DISTINCT(ord_num)) AS orders, \n",
    "        COUNT(title_id) AS items, \n",
    "        SUM(qty) AS qty\n",
    "    FROM \n",
    "        `ironhack-data-analytics-265219.publications.sales` sales\n",
    "    INNER JOIN \n",
    "        `ironhack-data-analytics-265219.publications.stores` stores \n",
    "    ON \n",
    "        stores.stor_id = sales.stor_id\n",
    "    GROUP BY \n",
    "        1,2) summary\n",
    "INNER JOIN \n",
    "    `ironhack-data-analytics-265219.publications.sales` sales \n",
    "ON \n",
    "    summary.store_ID = sales.stor_id\n",
    "INNER JOIN \n",
    "    `ironhack-data-analytics-265219.publications.titles` titles \n",
    "ON \n",
    "    sales.title_id = titles.title_id\n",
    "WHERE \n",
    "    items / orders > 1\n",
    "    '''"
   ]
  },
  {
   "cell_type": "code",
   "execution_count": 17,
   "metadata": {},
   "outputs": [
    {
     "data": {
      "text/html": [
       "<div>\n",
       "<style scoped>\n",
       "    .dataframe tbody tr th:only-of-type {\n",
       "        vertical-align: middle;\n",
       "    }\n",
       "\n",
       "    .dataframe tbody tr th {\n",
       "        vertical-align: top;\n",
       "    }\n",
       "\n",
       "    .dataframe thead th {\n",
       "        text-align: right;\n",
       "    }\n",
       "</style>\n",
       "<table border=\"1\" class=\"dataframe\">\n",
       "  <thead>\n",
       "    <tr style=\"text-align: right;\">\n",
       "      <th></th>\n",
       "      <th>store</th>\n",
       "      <th>order_number</th>\n",
       "      <th>order_date</th>\n",
       "      <th>title</th>\n",
       "      <th>qty</th>\n",
       "      <th>price</th>\n",
       "      <th>type</th>\n",
       "    </tr>\n",
       "  </thead>\n",
       "  <tbody>\n",
       "    <tr>\n",
       "      <td>0</td>\n",
       "      <td>News &amp; Brews</td>\n",
       "      <td>P2121</td>\n",
       "      <td>1992-06-15</td>\n",
       "      <td>Fifty Years in Buckingham Palace Kitchens</td>\n",
       "      <td>20</td>\n",
       "      <td>11.95</td>\n",
       "      <td>trad_cook</td>\n",
       "    </tr>\n",
       "    <tr>\n",
       "      <td>1</td>\n",
       "      <td>News &amp; Brews</td>\n",
       "      <td>P2121</td>\n",
       "      <td>1992-06-15</td>\n",
       "      <td>Onions, Leeks, and Garlic: Cooking Secrets of ...</td>\n",
       "      <td>40</td>\n",
       "      <td>20.95</td>\n",
       "      <td>trad_cook</td>\n",
       "    </tr>\n",
       "    <tr>\n",
       "      <td>2</td>\n",
       "      <td>News &amp; Brews</td>\n",
       "      <td>P2121</td>\n",
       "      <td>1992-06-15</td>\n",
       "      <td>Sushi, Anyone?</td>\n",
       "      <td>20</td>\n",
       "      <td>14.99</td>\n",
       "      <td>trad_cook</td>\n",
       "    </tr>\n",
       "    <tr>\n",
       "      <td>3</td>\n",
       "      <td>News &amp; Brews</td>\n",
       "      <td>D4482</td>\n",
       "      <td>1994-09-14</td>\n",
       "      <td>Is Anger the Enemy?</td>\n",
       "      <td>10</td>\n",
       "      <td>10.95</td>\n",
       "      <td>psychology</td>\n",
       "    </tr>\n",
       "    <tr>\n",
       "      <td>4</td>\n",
       "      <td>Doc-U-Mat: Quality Laundry and Books</td>\n",
       "      <td>N914008</td>\n",
       "      <td>1994-09-14</td>\n",
       "      <td>Is Anger the Enemy?</td>\n",
       "      <td>20</td>\n",
       "      <td>10.95</td>\n",
       "      <td>psychology</td>\n",
       "    </tr>\n",
       "    <tr>\n",
       "      <td>5</td>\n",
       "      <td>Doc-U-Mat: Quality Laundry and Books</td>\n",
       "      <td>N914014</td>\n",
       "      <td>1994-09-14</td>\n",
       "      <td>The Gourmet Microwave</td>\n",
       "      <td>25</td>\n",
       "      <td>2.99</td>\n",
       "      <td>mod_cook</td>\n",
       "    </tr>\n",
       "    <tr>\n",
       "      <td>6</td>\n",
       "      <td>Doc-U-Mat: Quality Laundry and Books</td>\n",
       "      <td>P3087a</td>\n",
       "      <td>1993-05-29</td>\n",
       "      <td>Emotional Security: A New Algorithm</td>\n",
       "      <td>25</td>\n",
       "      <td>7.99</td>\n",
       "      <td>psychology</td>\n",
       "    </tr>\n",
       "    <tr>\n",
       "      <td>7</td>\n",
       "      <td>Doc-U-Mat: Quality Laundry and Books</td>\n",
       "      <td>P3087a</td>\n",
       "      <td>1993-05-29</td>\n",
       "      <td>Prolonged Data Deprivation: Four Case Studies</td>\n",
       "      <td>15</td>\n",
       "      <td>19.99</td>\n",
       "      <td>psychology</td>\n",
       "    </tr>\n",
       "    <tr>\n",
       "      <td>8</td>\n",
       "      <td>Doc-U-Mat: Quality Laundry and Books</td>\n",
       "      <td>P3087a</td>\n",
       "      <td>1993-05-29</td>\n",
       "      <td>Life Without Fear</td>\n",
       "      <td>25</td>\n",
       "      <td>7.00</td>\n",
       "      <td>psychology</td>\n",
       "    </tr>\n",
       "    <tr>\n",
       "      <td>9</td>\n",
       "      <td>Doc-U-Mat: Quality Laundry and Books</td>\n",
       "      <td>P3087a</td>\n",
       "      <td>1993-05-29</td>\n",
       "      <td>Computer Phobic AND Non-Phobic Individuals: Be...</td>\n",
       "      <td>20</td>\n",
       "      <td>21.59</td>\n",
       "      <td>psychology</td>\n",
       "    </tr>\n",
       "  </tbody>\n",
       "</table>\n",
       "</div>"
      ],
      "text/plain": [
       "                                  store order_number  order_date  \\\n",
       "0                          News & Brews        P2121  1992-06-15   \n",
       "1                          News & Brews        P2121  1992-06-15   \n",
       "2                          News & Brews        P2121  1992-06-15   \n",
       "3                          News & Brews        D4482  1994-09-14   \n",
       "4  Doc-U-Mat: Quality Laundry and Books      N914008  1994-09-14   \n",
       "5  Doc-U-Mat: Quality Laundry and Books      N914014  1994-09-14   \n",
       "6  Doc-U-Mat: Quality Laundry and Books       P3087a  1993-05-29   \n",
       "7  Doc-U-Mat: Quality Laundry and Books       P3087a  1993-05-29   \n",
       "8  Doc-U-Mat: Quality Laundry and Books       P3087a  1993-05-29   \n",
       "9  Doc-U-Mat: Quality Laundry and Books       P3087a  1993-05-29   \n",
       "\n",
       "                                               title qty  price        type  \n",
       "0          Fifty Years in Buckingham Palace Kitchens  20  11.95   trad_cook  \n",
       "1  Onions, Leeks, and Garlic: Cooking Secrets of ...  40  20.95   trad_cook  \n",
       "2                                     Sushi, Anyone?  20  14.99   trad_cook  \n",
       "3                                Is Anger the Enemy?  10  10.95  psychology  \n",
       "4                                Is Anger the Enemy?  20  10.95  psychology  \n",
       "5                              The Gourmet Microwave  25   2.99    mod_cook  \n",
       "6                Emotional Security: A New Algorithm  25   7.99  psychology  \n",
       "7      Prolonged Data Deprivation: Four Case Studies  15  19.99  psychology  \n",
       "8                                  Life Without Fear  25   7.00  psychology  \n",
       "9  Computer Phobic AND Non-Phobic Individuals: Be...  20  21.59  psychology  "
      ]
     },
     "execution_count": 17,
     "metadata": {},
     "output_type": "execute_result"
    }
   ],
   "source": [
    "query_job = client.query(query=query)\n",
    "df=query_job.to_dataframe()\n",
    "df"
   ]
  },
  {
   "cell_type": "markdown",
   "metadata": {},
   "source": [
    "__What are the most popular Citibike destinations for NYC couples?__\n",
    "\n",
    "- Group Citibike trips together into ones that start and end at about the same time. \n",
    "- If the grouped-together trip had more than one person in it, then it’s counted as a group trip. \n",
    "- This could be a couple riding together, or a group of friends or family. \n",
    "- Possibly it could be people that happened to check out a bike at the same time and go to the same place at the same rate- considering that a rare occurrence. \n",
    "- Find which stations have the highest percentage of trips from groups versus single-rider trips.\n",
    "\n",
    "https://medium.com/@TimSwast/what-are-the-most-popular-citibike-destinations-for-nyc-couples-1baf646fbba"
   ]
  },
  {
   "cell_type": "code",
   "execution_count": null,
   "metadata": {
    "collapsed": true
   },
   "outputs": [],
   "source": [
    "query_subquery='''\n",
    "SELECT\n",
    "  group_trips / (single_trips + group_trips) AS percent_groups,\n",
    "  single_trips + group_trips AS total_trips,\n",
    "  q.end_station_id AS end_station_id,\n",
    "  stations.name AS name,\n",
    "  stations.latitude AS latitude,\n",
    "  stations.longitude AS longitude\n",
    "FROM (\n",
    "  SELECT\n",
    "    COUNTIF(group_size = 1) AS single_trips,\n",
    "    COUNTIF(group_size != 1) AS group_trips,\n",
    "    end_station_id\n",
    "  FROM (\n",
    "    SELECT\n",
    "      ROUND(UNIX_SECONDS(starttime) / 120) AS start,\n",
    "      -- round to nearest 2 minutes\n",
    "      ROUND(UNIX_SECONDS(stoptime) / 120) AS stop,\n",
    "      -- round to nearest 2 minutes\n",
    "      start_station_id,\n",
    "      end_station_id,\n",
    "      COUNT(*) AS group_size\n",
    "    FROM\n",
    "      `bigquery-public-data.new_york.citibike_trips`\n",
    "    GROUP BY\n",
    "      start,\n",
    "      stop,\n",
    "      start_station_id,\n",
    "      end_station_id )\n",
    "  GROUP BY\n",
    "    end_station_id ) q\n",
    "LEFT JOIN\n",
    "  `bigquery-public-data.new_york.citibike_stations` AS stations\n",
    "ON\n",
    "  q.end_station_id = stations.station_id\n",
    "ORDER BY\n",
    "  percent_groups DESC\n",
    "'''"
   ]
  },
  {
   "cell_type": "code",
   "execution_count": null,
   "metadata": {
    "collapsed": true
   },
   "outputs": [],
   "source": [
    "query_job = client.query(query=query_subquery)\n",
    "df_subquery=query_job.to_dataframe()\n",
    "df_subquery"
   ]
  },
  {
   "cell_type": "markdown",
   "metadata": {},
   "source": [
    "## Action queries "
   ]
  },
  {
   "cell_type": "code",
   "execution_count": null,
   "metadata": {
    "collapsed": true
   },
   "outputs": [],
   "source": [
    "CREATE TABLE publications.store_sales_summary AS\n",
    "SELECT stores.stor_id AS StoreID, stores.stor_name AS Store, COUNT(DISTINCT(ord_num)) AS Orders, COUNT(title_id) AS Items, SUM(qty) AS Qty\n",
    "FROM publications.sales sales\n",
    "INNER JOIN publications.stores stores ON stores.stor_id = sales.stor_id\n",
    "GROUP BY StoreID, Store;"
   ]
  },
  {
   "cell_type": "code",
   "execution_count": null,
   "metadata": {
    "collapsed": true
   },
   "outputs": [],
   "source": [
    "DELETE FROM publications.store_sales_summary\n",
    "WHERE Qty < 80;"
   ]
  },
  {
   "cell_type": "code",
   "execution_count": null,
   "metadata": {
    "collapsed": true
   },
   "outputs": [],
   "source": [
    "INSERT INTO publications.store_sales_summary\n",
    "SELECT stores.stor_id AS StoreID, stores.stor_name AS Store, COUNT(DISTINCT(ord_num)) AS Orders, COUNT(title_id) AS Items, SUM(qty) AS Qty\n",
    "FROM publications.sales sales\n",
    "INNER JOIN publications.stores stores ON stores.stor_id = sales.stor_id\n",
    "GROUP BY StoreID, Store;"
   ]
  },
  {
   "cell_type": "code",
   "execution_count": null,
   "metadata": {
    "collapsed": true
   },
   "outputs": [],
   "source": [
    "UPDATE publications.store_sales_summary\n",
    "SET Qty = Qty + 5"
   ]
  }
 ],
 "metadata": {
  "kernelspec": {
   "display_name": "Python 3",
   "language": "python",
   "name": "python3"
  },
  "language_info": {
   "codemirror_mode": {
    "name": "ipython",
    "version": 3
   },
   "file_extension": ".py",
   "mimetype": "text/x-python",
   "name": "python",
   "nbconvert_exporter": "python",
   "pygments_lexer": "ipython3",
   "version": "3.7.4"
  }
 },
 "nbformat": 4,
 "nbformat_minor": 2
}
