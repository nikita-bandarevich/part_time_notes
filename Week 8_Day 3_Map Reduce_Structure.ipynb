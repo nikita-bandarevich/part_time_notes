{
 "cells": [
  {
   "cell_type": "markdown",
   "metadata": {
    "toc": true
   },
   "source": [
    "<h1>Table of Contents<span class=\"tocSkip\"></span></h1>\n",
    "<div class=\"toc\"><ul class=\"toc-item\"><li><span><a href=\"#Mapping\" data-toc-modified-id=\"Mapping-1\"><span class=\"toc-item-num\">1&nbsp;&nbsp;</span>Mapping</a></span><ul class=\"toc-item\"><li><span><a href=\"#Example-1-(Ironhack)\" data-toc-modified-id=\"Example-1-(Ironhack)-1.1\"><span class=\"toc-item-num\">1.1&nbsp;&nbsp;</span>Example 1 (Ironhack)</a></span></li><li><span><a href=\"#Example-2\" data-toc-modified-id=\"Example-2-1.2\"><span class=\"toc-item-num\">1.2&nbsp;&nbsp;</span>Example 2</a></span></li></ul></li><li><span><a href=\"#Filtering\" data-toc-modified-id=\"Filtering-2\"><span class=\"toc-item-num\">2&nbsp;&nbsp;</span>Filtering</a></span><ul class=\"toc-item\"><li><span><a href=\"#Example-1-(Ironhack)\" data-toc-modified-id=\"Example-1-(Ironhack)-2.1\"><span class=\"toc-item-num\">2.1&nbsp;&nbsp;</span>Example 1 (Ironhack)</a></span></li><li><span><a href=\"#Example-2\" data-toc-modified-id=\"Example-2-2.2\"><span class=\"toc-item-num\">2.2&nbsp;&nbsp;</span>Example 2</a></span></li></ul></li><li><span><a href=\"#Reducing\" data-toc-modified-id=\"Reducing-3\"><span class=\"toc-item-num\">3&nbsp;&nbsp;</span>Reducing</a></span><ul class=\"toc-item\"><li><span><a href=\"#Example-1-(Ironhack)\" data-toc-modified-id=\"Example-1-(Ironhack)-3.1\"><span class=\"toc-item-num\">3.1&nbsp;&nbsp;</span>Example 1 (Ironhack)</a></span></li><li><span><a href=\"#Example-2\" data-toc-modified-id=\"Example-2-3.2\"><span class=\"toc-item-num\">3.2&nbsp;&nbsp;</span>Example 2</a></span></li></ul></li><li><span><a href=\"#Applying-them-in-Pandas\" data-toc-modified-id=\"Applying-them-in-Pandas-4\"><span class=\"toc-item-num\">4&nbsp;&nbsp;</span>Applying them in Pandas</a></span><ul class=\"toc-item\"><li><span><a href=\"#Example-1-(Ironhack)\" data-toc-modified-id=\"Example-1-(Ironhack)-4.1\"><span class=\"toc-item-num\">4.1&nbsp;&nbsp;</span>Example 1 (Ironhack)</a></span></li></ul></li></ul></div>"
   ]
  },
  {
   "cell_type": "markdown",
   "metadata": {
    "ExecuteTime": {
     "end_time": "2019-07-13T09:38:12.736681Z",
     "start_time": "2019-07-13T09:38:12.733468Z"
    }
   },
   "source": [
    "# Mapping"
   ]
  },
  {
   "cell_type": "markdown",
   "metadata": {
    "ExecuteTime": {
     "end_time": "2019-07-13T09:45:30.543454Z",
     "start_time": "2019-07-13T09:45:30.540737Z"
    },
    "heading_collapsed": true
   },
   "source": [
    "## Example 1 (Ironhack)"
   ]
  },
  {
   "cell_type": "markdown",
   "metadata": {
    "hidden": true
   },
   "source": [
    "For example, let's create a function that divides a number by 2 and returns the result."
   ]
  },
  {
   "cell_type": "code",
   "execution_count": 1,
   "metadata": {
    "ExecuteTime": {
     "end_time": "2019-07-13T09:38:26.015850Z",
     "start_time": "2019-07-13T09:38:26.012965Z"
    },
    "hidden": true
   },
   "outputs": [],
   "source": [
    "def half(x):\n",
    "    return x/2"
   ]
  },
  {
   "cell_type": "markdown",
   "metadata": {
    "hidden": true
   },
   "source": [
    "Now that we have our function, let's apply it to a list of numbers."
   ]
  },
  {
   "cell_type": "code",
   "execution_count": 2,
   "metadata": {
    "ExecuteTime": {
     "end_time": "2019-07-13T09:38:34.022583Z",
     "start_time": "2019-07-13T09:38:34.013008Z"
    },
    "hidden": true
   },
   "outputs": [
    {
     "data": {
      "text/plain": [
       "<map at 0x105014b90>"
      ]
     },
     "execution_count": 2,
     "metadata": {},
     "output_type": "execute_result"
    }
   ],
   "source": [
    "l = [10, 12, 34, 23]\n",
    "map(half, l)"
   ]
  },
  {
   "cell_type": "markdown",
   "metadata": {
    "ExecuteTime": {
     "end_time": "2019-07-13T09:45:11.627834Z",
     "start_time": "2019-07-13T09:45:11.621737Z"
    },
    "hidden": true
   },
   "source": [
    "The map() function creates a map object which is an iterable object. To create a new list, one option is to convert the iterable into a list."
   ]
  },
  {
   "cell_type": "code",
   "execution_count": 3,
   "metadata": {
    "ExecuteTime": {
     "end_time": "2019-07-13T09:38:37.753210Z",
     "start_time": "2019-07-13T09:38:37.748484Z"
    },
    "hidden": true
   },
   "outputs": [
    {
     "data": {
      "text/plain": [
       "[5.0, 6.0, 17.0, 11.5]"
      ]
     },
     "execution_count": 3,
     "metadata": {},
     "output_type": "execute_result"
    }
   ],
   "source": [
    "list(map(half, l))"
   ]
  },
  {
   "cell_type": "markdown",
   "metadata": {
    "heading_collapsed": true
   },
   "source": [
    "## Example 2"
   ]
  },
  {
   "cell_type": "code",
   "execution_count": 4,
   "metadata": {
    "ExecuteTime": {
     "end_time": "2019-07-13T10:03:12.625937Z",
     "start_time": "2019-07-13T10:03:12.622958Z"
    },
    "hidden": true
   },
   "outputs": [],
   "source": [
    "items = [1, 2, 3, 4, 5]\n",
    "squared = []\n",
    "for i in items:\n",
    "    squared.append(i**2)"
   ]
  },
  {
   "cell_type": "code",
   "execution_count": 5,
   "metadata": {
    "ExecuteTime": {
     "end_time": "2019-07-13T10:03:36.043237Z",
     "start_time": "2019-07-13T10:03:36.038985Z"
    },
    "hidden": true
   },
   "outputs": [
    {
     "name": "stdout",
     "output_type": "stream",
     "text": [
      "[1, 4, 9, 16, 25]\n"
     ]
    }
   ],
   "source": [
    "print(squared)"
   ]
  },
  {
   "cell_type": "code",
   "execution_count": 6,
   "metadata": {
    "ExecuteTime": {
     "end_time": "2019-07-13T10:03:54.633659Z",
     "start_time": "2019-07-13T10:03:54.630562Z"
    },
    "hidden": true
   },
   "outputs": [
    {
     "data": {
      "text/plain": [
       "[1, 4, 9, 16, 25]"
      ]
     },
     "execution_count": 6,
     "metadata": {},
     "output_type": "execute_result"
    }
   ],
   "source": [
    "# Let's now do it using map and a lambda function!\n",
    "\n",
    "items = [1, 2, 3, 4, 5]\n",
    "\n",
    "x = lambda i : i**2 \n",
    "\n",
    "list(map(x, items))\n",
    "\n",
    "# or squared2 = list(map(lambda x: x**2, items))"
   ]
  },
  {
   "cell_type": "markdown",
   "metadata": {},
   "source": [
    "# Filtering"
   ]
  },
  {
   "cell_type": "markdown",
   "metadata": {
    "ExecuteTime": {
     "end_time": "2019-07-13T09:51:12.079754Z",
     "start_time": "2019-07-13T09:51:12.077298Z"
    },
    "heading_collapsed": true
   },
   "source": [
    "## Example 1 (Ironhack)"
   ]
  },
  {
   "cell_type": "markdown",
   "metadata": {
    "hidden": true
   },
   "source": [
    " For example, we can create a function that returns true if a number is odd and false if it is even. Do it using a lambda function!"
   ]
  },
  {
   "cell_type": "code",
   "execution_count": 8,
   "metadata": {
    "ExecuteTime": {
     "end_time": "2019-07-13T09:41:08.747690Z",
     "start_time": "2019-07-13T09:41:08.742924Z"
    },
    "hidden": true
   },
   "outputs": [],
   "source": [
    "function = lambda i : i % 2 == 0  "
   ]
  },
  {
   "cell_type": "markdown",
   "metadata": {
    "hidden": true
   },
   "source": [
    "Again, this returns an iterable, so we will cast it to a list."
   ]
  },
  {
   "cell_type": "code",
   "execution_count": 10,
   "metadata": {
    "ExecuteTime": {
     "end_time": "2019-07-13T09:41:15.243961Z",
     "start_time": "2019-07-13T09:41:15.238819Z"
    },
    "hidden": true
   },
   "outputs": [
    {
     "data": {
      "text/plain": [
       "[True, True, True, False]"
      ]
     },
     "execution_count": 10,
     "metadata": {},
     "output_type": "execute_result"
    }
   ],
   "source": [
    "list(map(function, l))\n",
    "\n",
    "# or list(filter(lambda x: x % w == 1, l))"
   ]
  },
  {
   "cell_type": "markdown",
   "metadata": {
    "heading_collapsed": true
   },
   "source": [
    "## Example 2"
   ]
  },
  {
   "cell_type": "code",
   "execution_count": 12,
   "metadata": {
    "ExecuteTime": {
     "end_time": "2019-07-13T10:04:52.629067Z",
     "start_time": "2019-07-13T10:04:52.626427Z"
    },
    "hidden": true
   },
   "outputs": [],
   "source": [
    "number_list = range(-5, 5)"
   ]
  },
  {
   "cell_type": "markdown",
   "metadata": {
    "hidden": true
   },
   "source": [
    "Filtering the negative numbers:"
   ]
  },
  {
   "cell_type": "code",
   "execution_count": 13,
   "metadata": {
    "ExecuteTime": {
     "end_time": "2019-07-13T10:04:59.389612Z",
     "start_time": "2019-07-13T10:04:59.385961Z"
    },
    "hidden": true
   },
   "outputs": [
    {
     "data": {
      "text/plain": [
       "[-5, -4, -3, -2, -1]"
      ]
     },
     "execution_count": 13,
     "metadata": {},
     "output_type": "execute_result"
    }
   ],
   "source": [
    "list(filter(lambda x: x < 0, number_list))"
   ]
  },
  {
   "cell_type": "markdown",
   "metadata": {},
   "source": [
    "# Reducing"
   ]
  },
  {
   "cell_type": "markdown",
   "metadata": {},
   "source": [
    "## Example 1 (Ironhack)"
   ]
  },
  {
   "cell_type": "markdown",
   "metadata": {},
   "source": [
    "For example, if we would like to create a summation function using reduce(), we will sum two elements at a time.\n",
    "Let's write a lambda expression that will take two elements and sum them."
   ]
  },
  {
   "cell_type": "code",
   "execution_count": 14,
   "metadata": {
    "ExecuteTime": {
     "end_time": "2019-07-13T09:49:05.872400Z",
     "start_time": "2019-07-13T09:49:05.869217Z"
    }
   },
   "outputs": [],
   "source": [
    "summation = lambda a, b: a + b"
   ]
  },
  {
   "cell_type": "markdown",
   "metadata": {},
   "source": [
    "By passing this lambda expression to the reduce() function (along with a list [10, 12, 34, 23]), we will perform the following operations in this order:\n",
    "\n",
    "- a = 10\n",
    "- a = 12 + 10 = 22\n",
    "- a = 22 + 34 = 56\n",
    "- a = 56 + 23 = 79"
   ]
  },
  {
   "cell_type": "code",
   "execution_count": 17,
   "metadata": {
    "ExecuteTime": {
     "end_time": "2019-07-13T09:50:33.027652Z",
     "start_time": "2019-07-13T09:50:33.023033Z"
    }
   },
   "outputs": [
    {
     "data": {
      "text/plain": [
       "79"
      ]
     },
     "execution_count": 17,
     "metadata": {},
     "output_type": "execute_result"
    }
   ],
   "source": [
    "from functools import reduce\n",
    "l = [10, 12, 34, 23]\n",
    "reduce(summation, l)"
   ]
  },
  {
   "cell_type": "markdown",
   "metadata": {},
   "source": [
    "Here is another example of reduce(). This time we will use reduce() to find the maximum of a list. We will do this by comparing two elements at a time and returning the largest of the two."
   ]
  },
  {
   "cell_type": "code",
   "execution_count": 20,
   "metadata": {
    "ExecuteTime": {
     "end_time": "2019-07-13T09:50:52.913922Z",
     "start_time": "2019-07-13T09:50:52.909681Z"
    }
   },
   "outputs": [
    {
     "data": {
      "text/plain": [
       "34"
      ]
     },
     "execution_count": 20,
     "metadata": {},
     "output_type": "execute_result"
    }
   ],
   "source": [
    "reduce(lambda a, b: a if a > b else b, l)"
   ]
  },
  {
   "cell_type": "markdown",
   "metadata": {},
   "source": [
    "## Example 2"
   ]
  },
  {
   "cell_type": "markdown",
   "metadata": {},
   "source": [
    "For example, if you wanted to compute the product of a list of integers.\n",
    "So the normal way you might go about doing this task in python is using a basic for loop:"
   ]
  },
  {
   "cell_type": "code",
   "execution_count": 28,
   "metadata": {
    "ExecuteTime": {
     "end_time": "2019-07-13T10:07:50.341205Z",
     "start_time": "2019-07-13T10:07:50.337808Z"
    }
   },
   "outputs": [],
   "source": [
    "product = 1\n",
    "lst = [1, 2, 3, 4]\n",
    "for num in lst:\n",
    "    product = product * num"
   ]
  },
  {
   "cell_type": "markdown",
   "metadata": {},
   "source": [
    "Now let’s try it with reduce:"
   ]
  },
  {
   "cell_type": "code",
   "execution_count": 29,
   "metadata": {
    "ExecuteTime": {
     "end_time": "2019-07-13T10:07:51.131443Z",
     "start_time": "2019-07-13T10:07:51.128452Z"
    }
   },
   "outputs": [
    {
     "data": {
      "text/plain": [
       "24"
      ]
     },
     "execution_count": 29,
     "metadata": {},
     "output_type": "execute_result"
    }
   ],
   "source": [
    "reduce(lambda a , b: a * b, lst)"
   ]
  },
  {
   "cell_type": "code",
   "execution_count": null,
   "metadata": {
    "ExecuteTime": {
     "end_time": "2019-07-13T10:07:51.701120Z",
     "start_time": "2019-07-13T10:07:51.697052Z"
    }
   },
   "outputs": [],
   "source": []
  },
  {
   "cell_type": "markdown",
   "metadata": {},
   "source": [
    "# Applying them in Pandas"
   ]
  },
  {
   "cell_type": "markdown",
   "metadata": {},
   "source": [
    "## Example 1 (Ironhack)"
   ]
  },
  {
   "cell_type": "markdown",
   "metadata": {},
   "source": [
    "Here is the example of a dataframe"
   ]
  },
  {
   "cell_type": "code",
   "execution_count": 21,
   "metadata": {
    "ExecuteTime": {
     "end_time": "2019-07-13T09:57:21.654603Z",
     "start_time": "2019-07-13T09:57:21.118601Z"
    }
   },
   "outputs": [
    {
     "data": {
      "text/html": [
       "<div>\n",
       "<style scoped>\n",
       "    .dataframe tbody tr th:only-of-type {\n",
       "        vertical-align: middle;\n",
       "    }\n",
       "\n",
       "    .dataframe tbody tr th {\n",
       "        vertical-align: top;\n",
       "    }\n",
       "\n",
       "    .dataframe thead th {\n",
       "        text-align: right;\n",
       "    }\n",
       "</style>\n",
       "<table border=\"1\" class=\"dataframe\">\n",
       "  <thead>\n",
       "    <tr style=\"text-align: right;\">\n",
       "      <th></th>\n",
       "      <th>a</th>\n",
       "      <th>b</th>\n",
       "      <th>c</th>\n",
       "    </tr>\n",
       "  </thead>\n",
       "  <tbody>\n",
       "    <tr>\n",
       "      <th>0</th>\n",
       "      <td>1.789150</td>\n",
       "      <td>1.952686</td>\n",
       "      <td>1.331251</td>\n",
       "    </tr>\n",
       "    <tr>\n",
       "      <th>1</th>\n",
       "      <td>-0.255352</td>\n",
       "      <td>-1.813122</td>\n",
       "      <td>-0.127235</td>\n",
       "    </tr>\n",
       "    <tr>\n",
       "      <th>2</th>\n",
       "      <td>-0.950691</td>\n",
       "      <td>1.951356</td>\n",
       "      <td>-0.873048</td>\n",
       "    </tr>\n",
       "    <tr>\n",
       "      <th>3</th>\n",
       "      <td>1.694203</td>\n",
       "      <td>-0.481160</td>\n",
       "      <td>-0.115498</td>\n",
       "    </tr>\n",
       "  </tbody>\n",
       "</table>\n",
       "</div>"
      ],
      "text/plain": [
       "          a         b         c\n",
       "0  1.789150  1.952686  1.331251\n",
       "1 -0.255352 -1.813122 -0.127235\n",
       "2 -0.950691  1.951356 -0.873048\n",
       "3  1.694203 -0.481160 -0.115498"
      ]
     },
     "execution_count": 21,
     "metadata": {},
     "output_type": "execute_result"
    }
   ],
   "source": [
    "import numpy as np\n",
    "import pandas as pd\n",
    "\n",
    "df = pd.DataFrame(np.random.randn(4, 3), columns=['a', 'b', 'c'])\n",
    "df"
   ]
  },
  {
   "cell_type": "markdown",
   "metadata": {},
   "source": [
    "We can use the half() function we defined earlier and apply it to every cell in the dataframe."
   ]
  },
  {
   "cell_type": "code",
   "execution_count": 22,
   "metadata": {
    "ExecuteTime": {
     "end_time": "2019-07-13T09:57:43.646044Z",
     "start_time": "2019-07-13T09:57:43.621878Z"
    }
   },
   "outputs": [],
   "source": [
    "def range_func(x):\n",
    "    return max(x) - min(x)"
   ]
  },
  {
   "cell_type": "markdown",
   "metadata": {},
   "source": [
    "Furthermore, we can define an aggregate function that will return the range of a column (the difference between the maximum and the minimum values)."
   ]
  },
  {
   "cell_type": "code",
   "execution_count": 23,
   "metadata": {
    "ExecuteTime": {
     "end_time": "2019-07-13T09:58:19.454995Z",
     "start_time": "2019-07-13T09:58:19.452166Z"
    }
   },
   "outputs": [
    {
     "data": {
      "text/plain": [
       "a    2.739841\n",
       "b    3.765808\n",
       "c    2.204299\n",
       "dtype: float64"
      ]
     },
     "execution_count": 23,
     "metadata": {},
     "output_type": "execute_result"
    }
   ],
   "source": [
    "df.apply(range_func)"
   ]
  },
  {
   "cell_type": "markdown",
   "metadata": {},
   "source": [
    "When we apply the function to our dataframe, it will compute the range for each column by default."
   ]
  },
  {
   "cell_type": "code",
   "execution_count": 24,
   "metadata": {
    "ExecuteTime": {
     "end_time": "2019-07-13T09:58:28.932112Z",
     "start_time": "2019-07-13T09:58:28.925957Z"
    }
   },
   "outputs": [
    {
     "data": {
      "text/plain": [
       "a    2.739841\n",
       "b    3.765808\n",
       "c    2.204299\n",
       "dtype: float64"
      ]
     },
     "execution_count": 24,
     "metadata": {},
     "output_type": "execute_result"
    }
   ],
   "source": [
    "df.apply(max) - df.apply(min)\n"
   ]
  },
  {
   "cell_type": "code",
   "execution_count": null,
   "metadata": {},
   "outputs": [],
   "source": []
  }
 ],
 "metadata": {
  "kernelspec": {
   "display_name": "Python 3",
   "language": "python",
   "name": "python3"
  },
  "language_info": {
   "codemirror_mode": {
    "name": "ipython",
    "version": 3
   },
   "file_extension": ".py",
   "mimetype": "text/x-python",
   "name": "python",
   "nbconvert_exporter": "python",
   "pygments_lexer": "ipython3",
   "version": "3.7.6"
  },
  "latex_envs": {
   "LaTeX_envs_menu_present": true,
   "autoclose": false,
   "autocomplete": true,
   "bibliofile": "biblio.bib",
   "cite_by": "apalike",
   "current_citInitial": 1,
   "eqLabelWithNumbers": true,
   "eqNumInitial": 1,
   "hotkeys": {
    "equation": "Ctrl-E",
    "itemize": "Ctrl-I"
   },
   "labels_anchors": false,
   "latex_user_defs": false,
   "report_style_numbering": false,
   "user_envs_cfg": false
  },
  "toc": {
   "base_numbering": 1,
   "nav_menu": {},
   "number_sections": true,
   "sideBar": true,
   "skip_h1_title": false,
   "title_cell": "Table of Contents",
   "title_sidebar": "Contents",
   "toc_cell": true,
   "toc_position": {},
   "toc_section_display": true,
   "toc_window_display": false
  },
  "varInspector": {
   "cols": {
    "lenName": 16,
    "lenType": 16,
    "lenVar": 40
   },
   "kernels_config": {
    "python": {
     "delete_cmd_postfix": "",
     "delete_cmd_prefix": "del ",
     "library": "var_list.py",
     "varRefreshCmd": "print(var_dic_list())"
    },
    "r": {
     "delete_cmd_postfix": ") ",
     "delete_cmd_prefix": "rm(",
     "library": "var_list.r",
     "varRefreshCmd": "cat(var_dic_list()) "
    }
   },
   "types_to_exclude": [
    "module",
    "function",
    "builtin_function_or_method",
    "instance",
    "_Feature"
   ],
   "window_display": false
  }
 },
 "nbformat": 4,
 "nbformat_minor": 2
}
