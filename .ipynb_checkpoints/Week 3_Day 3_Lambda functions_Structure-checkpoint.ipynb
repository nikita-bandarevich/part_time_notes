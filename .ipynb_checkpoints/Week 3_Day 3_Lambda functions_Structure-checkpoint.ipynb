{
 "cells": [
  {
   "cell_type": "markdown",
   "metadata": {
    "collapsed": true
   },
   "source": [
    "### Lambdas with one argument "
   ]
  },
  {
   "cell_type": "code",
   "execution_count": null,
   "metadata": {
    "collapsed": true
   },
   "outputs": [],
   "source": []
  },
  {
   "cell_type": "code",
   "execution_count": null,
   "metadata": {},
   "outputs": [],
   "source": []
  },
  {
   "cell_type": "markdown",
   "metadata": {},
   "source": [
    "### Lambdas with more arguments "
   ]
  },
  {
   "cell_type": "code",
   "execution_count": null,
   "metadata": {},
   "outputs": [],
   "source": []
  },
  {
   "cell_type": "code",
   "execution_count": null,
   "metadata": {},
   "outputs": [],
   "source": []
  },
  {
   "cell_type": "markdown",
   "metadata": {},
   "source": [
    "### Lambdas with no arguments "
   ]
  },
  {
   "cell_type": "code",
   "execution_count": null,
   "metadata": {},
   "outputs": [],
   "source": []
  },
  {
   "cell_type": "code",
   "execution_count": null,
   "metadata": {},
   "outputs": [],
   "source": []
  },
  {
   "cell_type": "markdown",
   "metadata": {},
   "source": [
    "### Examples"
   ]
  },
  {
   "cell_type": "code",
   "execution_count": 1,
   "metadata": {},
   "outputs": [
    {
     "name": "stdout",
     "output_type": "stream",
     "text": [
      "9\n"
     ]
    }
   ],
   "source": [
    "# How can I write this function with a lambda function?\n",
    "\n",
    "def add_five(number):\n",
    "    return number + 5\n",
    " \n",
    "print(add_five(number=4))"
   ]
  },
  {
   "cell_type": "code",
   "execution_count": null,
   "metadata": {},
   "outputs": [],
   "source": []
  },
  {
   "cell_type": "code",
   "execution_count": 2,
   "metadata": {},
   "outputs": [
    {
     "name": "stdout",
     "output_type": "stream",
     "text": [
      "oopsies\n"
     ]
    }
   ],
   "source": [
    "# if statement\n",
    "f = lambda x: x + 5 if x < 4 else print(\"oopsies\")\n",
    "f(4)"
   ]
  },
  {
   "cell_type": "code",
   "execution_count": 15,
   "metadata": {},
   "outputs": [
    {
     "name": "stdout",
     "output_type": "stream",
     "text": [
      "5\n",
      "6\n",
      "7\n",
      "8\n",
      "9\n"
     ]
    }
   ],
   "source": [
    "# return lambda\n",
    "def rank(n):\n",
    "    f = (lambda num: range (n,num)) (10)\n",
    "    for x in f:\n",
    "        print(x)\n",
    "rank(5)"
   ]
  },
  {
   "cell_type": "code",
   "execution_count": 20,
   "metadata": {},
   "outputs": [
    {
     "name": "stdout",
     "output_type": "stream",
     "text": [
      "[1, 4, 9, 16, 25, 36, 49, 64, 81]\n"
     ]
    }
   ],
   "source": [
    "# List comprehension\n",
    "f = lambda x: x**2\n",
    "\n",
    "#for x in range(1, 10):\n",
    "#   print(f(x))\n",
    "\n",
    "print([f(x) for x in range(1,10)])\n"
   ]
  },
  {
   "cell_type": "code",
   "execution_count": 26,
   "metadata": {},
   "outputs": [
    {
     "data": {
      "text/plain": [
       "[1, 4, 9, 16, 25]"
      ]
     },
     "execution_count": 26,
     "metadata": {},
     "output_type": "execute_result"
    }
   ],
   "source": [
    "# The definition of map is map(function,iterable). \n",
    "# It applies a function to every item in the iteratable. \n",
    "# We can use map() to on a lambda function with a list:\n",
    "list_1 = [1,2,3,4,5]\n",
    "squaredList = map(lambda x: x*x, list_1) # it returns a map object\n",
    " \n",
    "list_new=[]\n",
    "for x in squaredList:\n",
    "    list_new.append(x)\n",
    "list_new"
   ]
  },
  {
   "cell_type": "code",
   "execution_count": 27,
   "metadata": {},
   "outputs": [
    {
     "name": "stdout",
     "output_type": "stream",
     "text": [
      "[8, 10, 11, 12, 13, 17, 21]\n"
     ]
    }
   ],
   "source": [
    "# filter(function,iterable) creates a new list from the elmeents for which the function returns True. Example:\n",
    "numbers_list = [2, 6, 8, 10, 11, 4, 12, 7, 13, 17, 0, 3, 21]\n",
    "filtered_list = list(filter(lambda num: num > 7, numbers_list))\n",
    "print(filtered_list)\n"
   ]
  },
  {
   "cell_type": "code",
   "execution_count": 34,
   "metadata": {},
   "outputs": [
    {
     "data": {
      "text/plain": [
       "[('Zoe', 24), ('Anne', 33), ('Pierre', 42)]"
      ]
     },
     "execution_count": 34,
     "metadata": {},
     "output_type": "execute_result"
    }
   ],
   "source": [
    "# dictionary -sort\n",
    "#sorted_x = sorted(x.items(), key=operator.itemgetter(0))  // sort for keys\n",
    "\n",
    "x = {\"Pierre\": 42, \"Anne\": 33, \"Zoe\": 24}\n",
    "#{k: v for k, v in  // to pass it as a dictionary\n",
    "\n",
    "sorted_d = sorted(x.items(), key=lambda item: item[1])\n",
    "\n",
    "sorted_d"
   ]
  },
  {
   "cell_type": "code",
   "execution_count": 35,
   "metadata": {},
   "outputs": [
    {
     "data": {
      "text/plain": [
       "[{'name': 'Ivan', 'age': 19},\n",
       " {'name': 'Anna', 'age': 20},\n",
       " {'name': 'Marc', 'age': 20}]"
      ]
     },
     "execution_count": 35,
     "metadata": {},
     "output_type": "execute_result"
    }
   ],
   "source": [
    "# list-dictionaries-sort\n",
    "\n",
    "lis = [{ \"name\" : \"Anna\", \"age\" : 20},  \n",
    "{ \"name\" : \"Marc\", \"age\" : 20 }, \n",
    "{ \"name\" : \"Ivan\" , \"age\" : 19 }] \n",
    "\n",
    "sorted(lis, key = lambda i: i['age'])"
   ]
  },
  {
   "cell_type": "code",
   "execution_count": null,
   "metadata": {},
   "outputs": [],
   "source": []
  }
 ],
 "metadata": {
  "kernelspec": {
   "display_name": "Python 3",
   "language": "python",
   "name": "python3"
  },
  "language_info": {
   "codemirror_mode": {
    "name": "ipython",
    "version": 3
   },
   "file_extension": ".py",
   "mimetype": "text/x-python",
   "name": "python",
   "nbconvert_exporter": "python",
   "pygments_lexer": "ipython3",
   "version": "3.7.4"
  }
 },
 "nbformat": 4,
 "nbformat_minor": 2
}
